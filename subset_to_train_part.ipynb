{
 "cells": [
  {
   "cell_type": "code",
   "execution_count": 1,
   "id": "sustained-secretary",
   "metadata": {},
   "outputs": [],
   "source": [
    "import pandas as pd"
   ]
  },
  {
   "cell_type": "code",
   "execution_count": 2,
   "id": "innocent-intermediate",
   "metadata": {},
   "outputs": [],
   "source": [
    "path_to_data = \"/mnt/c/my_mnt_c/Code/my_github/python_bioinf_2021/train.csv\"\n",
    "\n",
    "df = pd.read_csv(path_to_data, usecols=[\"pos\", \"reads_all\", \"matches\", \"mismatches\", \"deletions\", \"insertions\"])\n",
    "df.head(5)"
   ]
  },
  {
   "cell_type": "code",
   "execution_count": 3,
   "id": "functioning-beverage",
   "metadata": {},
   "outputs": [],
   "source": [
    "new_df = df[df[\"matches\"] > df[\"matches\"].mean()]\n",
    "\n",
    "new_df"
   ]
  },
  {
   "cell_type": "code",
   "execution_count": 4,
   "id": "hybrid-dialogue",
   "metadata": {},
   "outputs": [],
   "source": [
    "new_df = new_df.drop('matches', axis=1)\n",
    "new_df"
   ]
  },
  {
   "cell_type": "code",
   "execution_count": 5,
   "id": "regulated-richmond",
   "metadata": {},
   "outputs": [],
   "source": [
    "new_df.to_csv(index=False)"
   ]
  },
  {
   "cell_type": "code",
   "execution_count": 6,
   "id": "apart-fancy",
   "metadata": {},
   "outputs": [],
   "source": [
    "new_df.to_csv('/mnt/c/my_mnt_c/Code/my_github/python_bioinf_2021/train_part.csv', index=False)"
   ]
  },
  {
   "cell_type": "code",
   "execution_count": 7,
   "id": "impressive-album",
   "metadata": {},
   "outputs": [],
   "source": [
    " %notebook /mnt/c/my_mnt_c/Code/my_github/python_bioinf_2021/subset_to_train_part.ipynb"
   ]
  },
  {
   "cell_type": "code",
   "execution_count": 8,
   "id": "miniature-greensboro",
   "metadata": {},
   "outputs": [],
   "source": [
    "new_df[index]"
   ]
  },
  {
   "cell_type": "code",
   "execution_count": 9,
   "id": "transparent-cable",
   "metadata": {},
   "outputs": [],
   "source": [
    "new_df.to_csv()"
   ]
  },
  {
   "cell_type": "code",
   "execution_count": 10,
   "id": "frozen-vision",
   "metadata": {},
   "outputs": [],
   "source": [
    "new_df.to_csv('/mnt/c/my_mnt_c/Code/my_github/python_bioinf_2021/train_part.csv', index=False).read_csv()"
   ]
  },
  {
   "cell_type": "code",
   "execution_count": 11,
   "id": "centered-scene",
   "metadata": {},
   "outputs": [],
   "source": [
    "new_df.to_csv('/mnt/c/my_mnt_c/Code/my_github/python_bioinf_2021/train_part.csv', index=False)"
   ]
  }
 ],
 "metadata": {},
 "nbformat": 4,
 "nbformat_minor": 5
}
