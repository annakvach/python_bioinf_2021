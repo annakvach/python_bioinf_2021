{
 "cells": [
  {
   "cell_type": "code",
   "execution_count": 1,
   "id": "inside-behavior",
   "metadata": {},
   "outputs": [],
   "source": [
    "import pandas as pd"
   ]
  },
  {
   "cell_type": "code",
   "execution_count": 2,
   "id": "greatest-assist",
   "metadata": {},
   "outputs": [],
   "source": [
    "path_to_data = \"/mnt/c/my_mnt_c/Code/my_github/python_bioinf_2021/train.csv\"\n",
    "\n",
    "df = pd.read_csv(path_to_data, usecols=[\"pos\", \"reads_all\", \"matches\", \"mismatches\", \"deletions\", \"insertions\"])\n",
    "df.head(5)"
   ]
  },
  {
   "cell_type": "code",
   "execution_count": 3,
   "id": "harmful-eagle",
   "metadata": {},
   "outputs": [],
   "source": [
    "new_df = df[df[\"matches\"] > df[\"matches\"].mean()]\n",
    "\n",
    "new_df"
   ]
  },
  {
   "cell_type": "code",
   "execution_count": 4,
   "id": "floral-chorus",
   "metadata": {},
   "outputs": [],
   "source": [
    "len(new_df.index)"
   ]
  },
  {
   "cell_type": "code",
   "execution_count": 5,
   "id": "entertaining-plasma",
   "metadata": {},
   "outputs": [],
   "source": [
    "new_df = new_df.drop('matches', axis=1)\n",
    "len(new_df.index)"
   ]
  },
  {
   "cell_type": "code",
   "execution_count": 6,
   "id": "meaningful-membrane",
   "metadata": {},
   "outputs": [],
   "source": [
    "new_df"
   ]
  },
  {
   "cell_type": "code",
   "execution_count": 7,
   "id": "systematic-capture",
   "metadata": {},
   "outputs": [],
   "source": [
    "new_df.to_csv()"
   ]
  },
  {
   "cell_type": "code",
   "execution_count": 8,
   "id": "cellular-retreat",
   "metadata": {},
   "outputs": [],
   "source": [
    "new_df.to_csv('/mnt/c/my_mnt_c/Code/my_github/python_bioinf_2021/train_part.csv', index=False)"
   ]
  },
  {
   "cell_type": "code",
   "execution_count": 9,
   "id": "industrial-module",
   "metadata": {},
   "outputs": [],
   "source": [
    "len(df.index)"
   ]
  },
  {
   "cell_type": "code",
   "execution_count": 10,
   "id": "naked-credit",
   "metadata": {},
   "outputs": [],
   "source": [
    "import pandas as pd"
   ]
  },
  {
   "cell_type": "code",
   "execution_count": 11,
   "id": "ambient-dodge",
   "metadata": {},
   "outputs": [],
   "source": [
    "path_to_data = \"/mnt/c/my_mnt_c/Code/my_github/python_bioinf_2021/train.csv\"\n",
    "\n",
    "df = pd.read_csv(path_to_data, usecols=[\"pos\", \"reads_all\", \"matches\", \"mismatches\", \"deletions\", \"insertions\"])\n",
    "df.head(5)"
   ]
  },
  {
   "cell_type": "code",
   "execution_count": 12,
   "id": "funky-viewer",
   "metadata": {},
   "outputs": [],
   "source": [
    "len(df.index)"
   ]
  },
  {
   "cell_type": "code",
   "execution_count": 13,
   "id": "frank-potato",
   "metadata": {},
   "outputs": [],
   "source": [
    "new_df = df[df[\"matches\"] > df[\"matches\"].mean()]\n",
    "\n",
    "new_df"
   ]
  },
  {
   "cell_type": "code",
   "execution_count": 14,
   "id": "invisible-mainstream",
   "metadata": {},
   "outputs": [],
   "source": [
    "len(new_df.index)"
   ]
  },
  {
   "cell_type": "code",
   "execution_count": 15,
   "id": "grand-remains",
   "metadata": {},
   "outputs": [],
   "source": [
    "new_df = new_df.drop('matches', axis=1)\n",
    "len(new_df.index)"
   ]
  },
  {
   "cell_type": "code",
   "execution_count": 16,
   "id": "shaped-reynolds",
   "metadata": {},
   "outputs": [],
   "source": [
    "new_df"
   ]
  },
  {
   "cell_type": "code",
   "execution_count": 17,
   "id": "touched-overhead",
   "metadata": {},
   "outputs": [],
   "source": [
    "new_df.to_csv()"
   ]
  },
  {
   "cell_type": "code",
   "execution_count": 18,
   "id": "productive-despite",
   "metadata": {},
   "outputs": [],
   "source": [
    "new_df.to_csv('/mnt/c/my_mnt_c/Code/my_github/python_bioinf_2021/train_part.csv', index=False)"
   ]
  }
 ],
 "metadata": {},
 "nbformat": 4,
 "nbformat_minor": 5
}
