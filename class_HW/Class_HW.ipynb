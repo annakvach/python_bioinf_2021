{
 "cells": [
  {
   "cell_type": "markdown",
   "id": "dense-hello",
   "metadata": {},
   "source": [
    "# DNA"
   ]
  },
  {
   "cell_type": "code",
   "execution_count": 1,
   "id": "outdoor-nightmare",
   "metadata": {},
   "outputs": [],
   "source": [
    "class DNA:\n",
    "    \n",
    "    def __init__(self, seq):\n",
    "        self.seq = seq\n",
    "        self.n = 0\n",
    "        if \"U\" in self.seq:\n",
    "            raise Exception(\"There is URACIL in your DNA sequence!\")\n",
    "        \n",
    "    def gc_content(self):\n",
    "        count = 0\n",
    "        for base in self.seq:\n",
    "            if base == 'C' or base == 'G' :\n",
    "                count += 1        \n",
    "        gc_content = (count / len(self.seq) * 100)\n",
    "        return gc_content\n",
    "        \n",
    "    def reverse_complement(self):\n",
    "        reverse_complement = \"\"\n",
    "        keys = {\"A\": \"T\",\n",
    "                \"G\": \"C\",\n",
    "                \"T\": \"A\",\n",
    "                \"C\": \"G\"}\n",
    "        for base in self.seq:\n",
    "            for key in keys:\n",
    "                if key == base:\n",
    "                    reverse_complement += str(keys[key])             \n",
    "        return reverse_complement[::-1]\n",
    "    \n",
    "    def transcribe(self):\n",
    "        transcribe = \"\"\n",
    "        keys = {\"A\": \"U\",\n",
    "                \"G\": \"C\",\n",
    "                \"T\": \"A\",\n",
    "                \"C\": \"G\"}\n",
    "        for base in self.seq:\n",
    "            for key in keys:\n",
    "                if key == base:\n",
    "                    transcribe += str(keys[key])      \n",
    "        return transcribe[::-1]\n",
    "    \n",
    "    def __iter__(self):\n",
    "        return self\n",
    "    \n",
    "    def __next__(self):\n",
    "        if self.n < len(self.seq):\n",
    "            self.n += 1\n",
    "            return self.seq[self.n - 1]\n",
    "        else:\n",
    "            raise StopIteration"
   ]
  },
  {
   "cell_type": "markdown",
   "id": "coated-niagara",
   "metadata": {},
   "source": [
    "## if Uracil in seq"
   ]
  },
  {
   "cell_type": "code",
   "execution_count": 2,
   "id": "tamil-indicator",
   "metadata": {},
   "outputs": [
    {
     "ename": "Exception",
     "evalue": "There is URACIL in your DNA sequence!",
     "output_type": "error",
     "traceback": [
      "\u001b[0;31m---------------------------------------------------------------------------\u001b[0m",
      "\u001b[0;31mException\u001b[0m                                 Traceback (most recent call last)",
      "\u001b[0;32m<ipython-input-2-b364bb729965>\u001b[0m in \u001b[0;36m<module>\u001b[0;34m\u001b[0m\n\u001b[0;32m----> 1\u001b[0;31m \u001b[0mDNA\u001b[0m\u001b[0;34m(\u001b[0m\u001b[0;34m\"AAATTTAUUUUUUUUUUUUUUUUUTACCG\"\u001b[0m\u001b[0;34m)\u001b[0m \u001b[0;31m# Uracil\u001b[0m\u001b[0;34m\u001b[0m\u001b[0;34m\u001b[0m\u001b[0m\n\u001b[0m",
      "\u001b[0;32m<ipython-input-1-ca66da986d3c>\u001b[0m in \u001b[0;36m__init__\u001b[0;34m(self, seq)\u001b[0m\n\u001b[1;32m      5\u001b[0m         \u001b[0mself\u001b[0m\u001b[0;34m.\u001b[0m\u001b[0mn\u001b[0m \u001b[0;34m=\u001b[0m \u001b[0;36m0\u001b[0m\u001b[0;34m\u001b[0m\u001b[0;34m\u001b[0m\u001b[0m\n\u001b[1;32m      6\u001b[0m         \u001b[0;32mif\u001b[0m \u001b[0;34m\"U\"\u001b[0m \u001b[0;32min\u001b[0m \u001b[0mself\u001b[0m\u001b[0;34m.\u001b[0m\u001b[0mseq\u001b[0m\u001b[0;34m:\u001b[0m\u001b[0;34m\u001b[0m\u001b[0;34m\u001b[0m\u001b[0m\n\u001b[0;32m----> 7\u001b[0;31m             \u001b[0;32mraise\u001b[0m \u001b[0mException\u001b[0m\u001b[0;34m(\u001b[0m\u001b[0;34m\"There is URACIL in your DNA sequence!\"\u001b[0m\u001b[0;34m)\u001b[0m\u001b[0;34m\u001b[0m\u001b[0;34m\u001b[0m\u001b[0m\n\u001b[0m\u001b[1;32m      8\u001b[0m \u001b[0;34m\u001b[0m\u001b[0m\n\u001b[1;32m      9\u001b[0m     \u001b[0;32mdef\u001b[0m \u001b[0mgc_content\u001b[0m\u001b[0;34m(\u001b[0m\u001b[0mself\u001b[0m\u001b[0;34m)\u001b[0m\u001b[0;34m:\u001b[0m\u001b[0;34m\u001b[0m\u001b[0;34m\u001b[0m\u001b[0m\n",
      "\u001b[0;31mException\u001b[0m: There is URACIL in your DNA sequence!"
     ]
    }
   ],
   "source": [
    "DNA(\"AAATTTAUUUUUUUUUUUUUUUUUTACCG\") # Uracil"
   ]
  },
  {
   "cell_type": "markdown",
   "id": "stone-invite",
   "metadata": {},
   "source": [
    "## gc_content"
   ]
  },
  {
   "cell_type": "code",
   "execution_count": 3,
   "id": "relevant-multimedia",
   "metadata": {},
   "outputs": [
    {
     "data": {
      "text/plain": [
       "50.0"
      ]
     },
     "execution_count": 3,
     "metadata": {},
     "output_type": "execute_result"
    }
   ],
   "source": [
    "DNA(\"ACCATCAGTC\").gc_content()"
   ]
  },
  {
   "cell_type": "markdown",
   "id": "municipal-folder",
   "metadata": {},
   "source": [
    "## reverse_complement, transcribe, for"
   ]
  },
  {
   "cell_type": "code",
   "execution_count": 4,
   "id": "acceptable-yugoslavia",
   "metadata": {},
   "outputs": [
    {
     "name": "stdout",
     "output_type": "stream",
     "text": [
      "DNA 5` --- DNA 3`\n",
      "  A    -->   T\n",
      "  C    -->   G\n",
      "  C    -->   G\n",
      "  A    -->   T\n",
      "  T    -->   A\n",
      "  C    -->   G\n",
      "  A    -->   T\n",
      "  G    -->   C\n",
      "  T    -->   A\n",
      "  C    -->   G\n",
      "DNA 3` --- DNA 5`\n"
     ]
    }
   ],
   "source": [
    "print(\"DNA 5`\", \"---\", \"DNA 3`\")\n",
    "for i in DNA(\"ACCATCAGTC\"):\n",
    "    print(\" \", i, \"   -->  \", DNA(i).reverse_complement())\n",
    "print(\"DNA 3`\", \"---\", \"DNA 5`\")"
   ]
  },
  {
   "cell_type": "code",
   "execution_count": 5,
   "id": "foster-palestinian",
   "metadata": {},
   "outputs": [
    {
     "data": {
      "text/plain": [
       "'GACTGATGGT'"
      ]
     },
     "execution_count": 5,
     "metadata": {},
     "output_type": "execute_result"
    }
   ],
   "source": [
    "DNA(\"ACCATCAGTC\").reverse_complement()"
   ]
  },
  {
   "cell_type": "code",
   "execution_count": 6,
   "id": "dense-tender",
   "metadata": {},
   "outputs": [
    {
     "name": "stdout",
     "output_type": "stream",
     "text": [
      "DNA 5` --- mRNA 3`\n",
      "  A    -->   U\n",
      "  C    -->   G\n",
      "  C    -->   G\n",
      "  A    -->   U\n",
      "  T    -->   A\n",
      "  C    -->   G\n",
      "  A    -->   U\n",
      "  G    -->   C\n",
      "  T    -->   A\n",
      "  C    -->   G\n",
      "DNA 3` --- mRNA 5`\n"
     ]
    }
   ],
   "source": [
    "print(\"DNA 5`\", \"---\", \"mRNA 3`\")\n",
    "for i in DNA(\"ACCATCAGTC\"):\n",
    "    print(\" \", i, \"   -->  \", DNA(i).transcribe())\n",
    "print(\"DNA 3`\", \"---\", \"mRNA 5`\")"
   ]
  },
  {
   "cell_type": "code",
   "execution_count": 7,
   "id": "essential-surprise",
   "metadata": {},
   "outputs": [
    {
     "data": {
      "text/plain": [
       "'GACUGAUGGU'"
      ]
     },
     "execution_count": 7,
     "metadata": {},
     "output_type": "execute_result"
    }
   ],
   "source": [
    "DNA(\"ACCATCAGTC\").transcribe()"
   ]
  },
  {
   "cell_type": "markdown",
   "id": "ancient-fortune",
   "metadata": {},
   "source": [
    "## next()"
   ]
  },
  {
   "cell_type": "code",
   "execution_count": 8,
   "id": "middle-essex",
   "metadata": {},
   "outputs": [],
   "source": [
    "x = DNA(\"ACCT\")"
   ]
  },
  {
   "cell_type": "code",
   "execution_count": 9,
   "id": "hazardous-romania",
   "metadata": {},
   "outputs": [
    {
     "data": {
      "text/plain": [
       "'A'"
      ]
     },
     "execution_count": 9,
     "metadata": {},
     "output_type": "execute_result"
    }
   ],
   "source": [
    "next(x)"
   ]
  },
  {
   "cell_type": "code",
   "execution_count": 10,
   "id": "meaning-catch",
   "metadata": {},
   "outputs": [
    {
     "data": {
      "text/plain": [
       "'C'"
      ]
     },
     "execution_count": 10,
     "metadata": {},
     "output_type": "execute_result"
    }
   ],
   "source": [
    "next(x)"
   ]
  },
  {
   "cell_type": "code",
   "execution_count": 11,
   "id": "preceding-fossil",
   "metadata": {},
   "outputs": [
    {
     "data": {
      "text/plain": [
       "'C'"
      ]
     },
     "execution_count": 11,
     "metadata": {},
     "output_type": "execute_result"
    }
   ],
   "source": [
    "next(x)"
   ]
  },
  {
   "cell_type": "code",
   "execution_count": 12,
   "id": "distinct-broadway",
   "metadata": {},
   "outputs": [
    {
     "data": {
      "text/plain": [
       "'T'"
      ]
     },
     "execution_count": 12,
     "metadata": {},
     "output_type": "execute_result"
    }
   ],
   "source": [
    "next(x)"
   ]
  },
  {
   "cell_type": "code",
   "execution_count": 13,
   "id": "every-signature",
   "metadata": {},
   "outputs": [
    {
     "ename": "StopIteration",
     "evalue": "",
     "output_type": "error",
     "traceback": [
      "\u001b[0;31m---------------------------------------------------------------------------\u001b[0m",
      "\u001b[0;31mStopIteration\u001b[0m                             Traceback (most recent call last)",
      "\u001b[0;32m<ipython-input-13-92de4e9f6b1e>\u001b[0m in \u001b[0;36m<module>\u001b[0;34m\u001b[0m\n\u001b[0;32m----> 1\u001b[0;31m \u001b[0mnext\u001b[0m\u001b[0;34m(\u001b[0m\u001b[0mx\u001b[0m\u001b[0;34m)\u001b[0m\u001b[0;34m\u001b[0m\u001b[0;34m\u001b[0m\u001b[0m\n\u001b[0m",
      "\u001b[0;32m<ipython-input-1-ca66da986d3c>\u001b[0m in \u001b[0;36m__next__\u001b[0;34m(self)\u001b[0m\n\u001b[1;32m     47\u001b[0m             \u001b[0;32mreturn\u001b[0m \u001b[0mself\u001b[0m\u001b[0;34m.\u001b[0m\u001b[0mseq\u001b[0m\u001b[0;34m[\u001b[0m\u001b[0mself\u001b[0m\u001b[0;34m.\u001b[0m\u001b[0mn\u001b[0m \u001b[0;34m-\u001b[0m \u001b[0;36m1\u001b[0m\u001b[0;34m]\u001b[0m\u001b[0;34m\u001b[0m\u001b[0;34m\u001b[0m\u001b[0m\n\u001b[1;32m     48\u001b[0m         \u001b[0;32melse\u001b[0m\u001b[0;34m:\u001b[0m\u001b[0;34m\u001b[0m\u001b[0;34m\u001b[0m\u001b[0m\n\u001b[0;32m---> 49\u001b[0;31m             \u001b[0;32mraise\u001b[0m \u001b[0mStopIteration\u001b[0m\u001b[0;34m\u001b[0m\u001b[0;34m\u001b[0m\u001b[0m\n\u001b[0m",
      "\u001b[0;31mStopIteration\u001b[0m: "
     ]
    }
   ],
   "source": [
    "next(x)"
   ]
  },
  {
   "cell_type": "markdown",
   "id": "nominated-controversy",
   "metadata": {},
   "source": [
    "# RNA"
   ]
  },
  {
   "cell_type": "code",
   "execution_count": 14,
   "id": "careful-buyer",
   "metadata": {},
   "outputs": [],
   "source": [
    "class RNA:\n",
    "    \n",
    "    def __init__(self, seq):\n",
    "        self.seq = seq\n",
    "        self.n = 0\n",
    "        if \"T\" in self.seq:\n",
    "            raise Exception(\"There is THYMINE in your RNA sequence!\")\n",
    "        \n",
    "    def gc_content(self):\n",
    "        count = 0\n",
    "        for base in self.seq:\n",
    "            if base == 'C' or base == 'G' :\n",
    "                count += 1        \n",
    "        gc_content = (count / len(self.seq) * 100)\n",
    "        return gc_content\n",
    "        \n",
    "    def reverse_complement(self):\n",
    "        reverse_complement = \"\"\n",
    "        keys = {\"U\": \"A\",\n",
    "                \"C\": \"G\",\n",
    "                \"A\": \"U\",\n",
    "                \"G\": \"C\"}\n",
    "        for base in self.seq:\n",
    "            for key in keys:\n",
    "                if key == base:\n",
    "                    reverse_complement += str(keys[key])\n",
    "        return reverse_complement[::-1]\n",
    "    \n",
    "    def transcribe(self):\n",
    "        transcribe = \"\"\n",
    "        keys = {\"A\": \"T\",\n",
    "                \"G\": \"C\",\n",
    "                \"U\": \"A\",\n",
    "                \"C\": \"G\"}\n",
    "        for base in self.seq:\n",
    "            for key in keys:\n",
    "                if key == base:\n",
    "                    transcribe += str(keys[key])      \n",
    "        return transcribe[::-1]\n",
    "    \n",
    "    def __iter__(self):\n",
    "        return self\n",
    "    \n",
    "    def __next__(self):\n",
    "        if self.n < len(self.seq):\n",
    "            self.n += 1\n",
    "            return self.seq[self.n - 1]\n",
    "        else:\n",
    "            raise StopIteration\n"
   ]
  },
  {
   "cell_type": "markdown",
   "id": "improving-seafood",
   "metadata": {},
   "source": [
    "## if Uracil in seq"
   ]
  },
  {
   "cell_type": "code",
   "execution_count": 15,
   "id": "universal-argument",
   "metadata": {},
   "outputs": [
    {
     "ename": "Exception",
     "evalue": "There is THYMINE in your RNA sequence!",
     "output_type": "error",
     "traceback": [
      "\u001b[0;31m---------------------------------------------------------------------------\u001b[0m",
      "\u001b[0;31mException\u001b[0m                                 Traceback (most recent call last)",
      "\u001b[0;32m<ipython-input-15-78f38ab4dd3d>\u001b[0m in \u001b[0;36m<module>\u001b[0;34m\u001b[0m\n\u001b[0;32m----> 1\u001b[0;31m \u001b[0mRNA\u001b[0m\u001b[0;34m(\u001b[0m\u001b[0;34m\"ACCATCAGTC\"\u001b[0m\u001b[0;34m)\u001b[0m\u001b[0;34m\u001b[0m\u001b[0;34m\u001b[0m\u001b[0m\n\u001b[0m",
      "\u001b[0;32m<ipython-input-14-84bc619ac7bb>\u001b[0m in \u001b[0;36m__init__\u001b[0;34m(self, seq)\u001b[0m\n\u001b[1;32m      5\u001b[0m         \u001b[0mself\u001b[0m\u001b[0;34m.\u001b[0m\u001b[0mn\u001b[0m \u001b[0;34m=\u001b[0m \u001b[0;36m0\u001b[0m\u001b[0;34m\u001b[0m\u001b[0;34m\u001b[0m\u001b[0m\n\u001b[1;32m      6\u001b[0m         \u001b[0;32mif\u001b[0m \u001b[0;34m\"T\"\u001b[0m \u001b[0;32min\u001b[0m \u001b[0mself\u001b[0m\u001b[0;34m.\u001b[0m\u001b[0mseq\u001b[0m\u001b[0;34m:\u001b[0m\u001b[0;34m\u001b[0m\u001b[0;34m\u001b[0m\u001b[0m\n\u001b[0;32m----> 7\u001b[0;31m             \u001b[0;32mraise\u001b[0m \u001b[0mException\u001b[0m\u001b[0;34m(\u001b[0m\u001b[0;34m\"There is THYMINE in your RNA sequence!\"\u001b[0m\u001b[0;34m)\u001b[0m\u001b[0;34m\u001b[0m\u001b[0;34m\u001b[0m\u001b[0m\n\u001b[0m\u001b[1;32m      8\u001b[0m \u001b[0;34m\u001b[0m\u001b[0m\n\u001b[1;32m      9\u001b[0m     \u001b[0;32mdef\u001b[0m \u001b[0mgc_content\u001b[0m\u001b[0;34m(\u001b[0m\u001b[0mself\u001b[0m\u001b[0;34m)\u001b[0m\u001b[0;34m:\u001b[0m\u001b[0;34m\u001b[0m\u001b[0;34m\u001b[0m\u001b[0m\n",
      "\u001b[0;31mException\u001b[0m: There is THYMINE in your RNA sequence!"
     ]
    }
   ],
   "source": [
    "RNA(\"ACCATCAGTC\")"
   ]
  },
  {
   "cell_type": "markdown",
   "id": "broke-forth",
   "metadata": {},
   "source": [
    "## gc_content"
   ]
  },
  {
   "cell_type": "code",
   "execution_count": 16,
   "id": "restricted-spider",
   "metadata": {},
   "outputs": [
    {
     "data": {
      "text/plain": [
       "50.0"
      ]
     },
     "execution_count": 16,
     "metadata": {},
     "output_type": "execute_result"
    }
   ],
   "source": [
    "RNA(\"GACUGAUGGU\").gc_content()"
   ]
  },
  {
   "cell_type": "markdown",
   "id": "nominated-charles",
   "metadata": {},
   "source": [
    "## reverse_complement, transcribe, for"
   ]
  },
  {
   "cell_type": "code",
   "execution_count": 17,
   "id": "incorporated-grass",
   "metadata": {},
   "outputs": [
    {
     "name": "stdout",
     "output_type": "stream",
     "text": [
      "mRNA 5` --- tRNA 3`\n",
      "  G    -->   C\n",
      "  A    -->   U\n",
      "  C    -->   G\n",
      "  U    -->   A\n",
      "  G    -->   C\n",
      "  A    -->   U\n",
      "  U    -->   A\n",
      "  G    -->   C\n",
      "  G    -->   C\n",
      "  U    -->   A\n",
      "mRNA 3` --- tRNA 5`\n"
     ]
    }
   ],
   "source": [
    "print(\"mRNA 5`\", \"---\", \"tRNA 3`\")\n",
    "for i in RNA(\"GACUGAUGGU\"):\n",
    "    print(\" \", i, \"   -->  \", RNA(i).reverse_complement())\n",
    "print(\"mRNA 3`\", \"---\", \"tRNA 5`\")"
   ]
  },
  {
   "cell_type": "code",
   "execution_count": 18,
   "id": "golden-spelling",
   "metadata": {},
   "outputs": [
    {
     "name": "stdout",
     "output_type": "stream",
     "text": [
      "mRNA 5` --- DNA 3`\n",
      "  G    -->   C\n",
      "  A    -->   T\n",
      "  C    -->   G\n",
      "  U    -->   A\n",
      "  G    -->   C\n",
      "  A    -->   T\n",
      "  U    -->   A\n",
      "  G    -->   C\n",
      "  G    -->   C\n",
      "  U    -->   A\n",
      "mRNA 3` --- DNA 5`\n"
     ]
    }
   ],
   "source": [
    "print(\"mRNA 5`\", \"---\", \"DNA 3`\")\n",
    "for i in RNA(\"GACUGAUGGU\"):\n",
    "    print(\" \", i, \"   -->  \", RNA(i).transcribe())\n",
    "print(\"mRNA 3`\", \"---\", \"DNA 5`\")"
   ]
  },
  {
   "cell_type": "code",
   "execution_count": 19,
   "id": "infrared-luther",
   "metadata": {},
   "outputs": [
    {
     "data": {
      "text/plain": [
       "'ACCATCAGTC'"
      ]
     },
     "execution_count": 19,
     "metadata": {},
     "output_type": "execute_result"
    }
   ],
   "source": [
    "RNA(\"GACUGAUGGU\").transcribe()"
   ]
  },
  {
   "cell_type": "markdown",
   "id": "quality-albert",
   "metadata": {},
   "source": [
    "## next()"
   ]
  },
  {
   "cell_type": "code",
   "execution_count": 20,
   "id": "approximate-horizon",
   "metadata": {},
   "outputs": [],
   "source": [
    "y = RNA(\"ACCU\")"
   ]
  },
  {
   "cell_type": "code",
   "execution_count": 21,
   "id": "metropolitan-protection",
   "metadata": {},
   "outputs": [
    {
     "data": {
      "text/plain": [
       "'A'"
      ]
     },
     "execution_count": 21,
     "metadata": {},
     "output_type": "execute_result"
    }
   ],
   "source": [
    "next(y)"
   ]
  },
  {
   "cell_type": "code",
   "execution_count": 22,
   "id": "documented-reply",
   "metadata": {},
   "outputs": [
    {
     "data": {
      "text/plain": [
       "'C'"
      ]
     },
     "execution_count": 22,
     "metadata": {},
     "output_type": "execute_result"
    }
   ],
   "source": [
    "next(y)"
   ]
  },
  {
   "cell_type": "code",
   "execution_count": 23,
   "id": "acute-cooking",
   "metadata": {},
   "outputs": [
    {
     "data": {
      "text/plain": [
       "'C'"
      ]
     },
     "execution_count": 23,
     "metadata": {},
     "output_type": "execute_result"
    }
   ],
   "source": [
    "next(y)"
   ]
  },
  {
   "cell_type": "code",
   "execution_count": 24,
   "id": "combined-investigator",
   "metadata": {},
   "outputs": [
    {
     "data": {
      "text/plain": [
       "'U'"
      ]
     },
     "execution_count": 24,
     "metadata": {},
     "output_type": "execute_result"
    }
   ],
   "source": [
    "next(y)"
   ]
  },
  {
   "cell_type": "code",
   "execution_count": 25,
   "id": "applicable-wrapping",
   "metadata": {},
   "outputs": [
    {
     "ename": "StopIteration",
     "evalue": "",
     "output_type": "error",
     "traceback": [
      "\u001b[0;31m---------------------------------------------------------------------------\u001b[0m",
      "\u001b[0;31mStopIteration\u001b[0m                             Traceback (most recent call last)",
      "\u001b[0;32m<ipython-input-25-81b9d2f0f16a>\u001b[0m in \u001b[0;36m<module>\u001b[0;34m\u001b[0m\n\u001b[0;32m----> 1\u001b[0;31m \u001b[0mnext\u001b[0m\u001b[0;34m(\u001b[0m\u001b[0my\u001b[0m\u001b[0;34m)\u001b[0m\u001b[0;34m\u001b[0m\u001b[0;34m\u001b[0m\u001b[0m\n\u001b[0m",
      "\u001b[0;32m<ipython-input-14-84bc619ac7bb>\u001b[0m in \u001b[0;36m__next__\u001b[0;34m(self)\u001b[0m\n\u001b[1;32m     47\u001b[0m             \u001b[0;32mreturn\u001b[0m \u001b[0mself\u001b[0m\u001b[0;34m.\u001b[0m\u001b[0mseq\u001b[0m\u001b[0;34m[\u001b[0m\u001b[0mself\u001b[0m\u001b[0;34m.\u001b[0m\u001b[0mn\u001b[0m \u001b[0;34m-\u001b[0m \u001b[0;36m1\u001b[0m\u001b[0;34m]\u001b[0m\u001b[0;34m\u001b[0m\u001b[0;34m\u001b[0m\u001b[0m\n\u001b[1;32m     48\u001b[0m         \u001b[0;32melse\u001b[0m\u001b[0;34m:\u001b[0m\u001b[0;34m\u001b[0m\u001b[0;34m\u001b[0m\u001b[0m\n\u001b[0;32m---> 49\u001b[0;31m             \u001b[0;32mraise\u001b[0m \u001b[0mStopIteration\u001b[0m\u001b[0;34m\u001b[0m\u001b[0;34m\u001b[0m\u001b[0m\n\u001b[0m",
      "\u001b[0;31mStopIteration\u001b[0m: "
     ]
    }
   ],
   "source": [
    "next(y)"
   ]
  },
  {
   "cell_type": "code",
   "execution_count": null,
   "id": "double-nickel",
   "metadata": {},
   "outputs": [],
   "source": []
  },
  {
   "cell_type": "code",
   "execution_count": null,
   "id": "moral-legend",
   "metadata": {},
   "outputs": [],
   "source": []
  }
 ],
 "metadata": {
  "kernelspec": {
   "display_name": "Python 3",
   "language": "python",
   "name": "python3"
  },
  "language_info": {
   "codemirror_mode": {
    "name": "ipython",
    "version": 3
   },
   "file_extension": ".py",
   "mimetype": "text/x-python",
   "name": "python",
   "nbconvert_exporter": "python",
   "pygments_lexer": "ipython3",
   "version": "3.8.5"
  }
 },
 "nbformat": 4,
 "nbformat_minor": 5
}
